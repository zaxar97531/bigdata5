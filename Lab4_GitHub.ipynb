{
 "cells": [
  {
   "cell_type": "code",
   "execution_count": 1,
   "metadata": {},
   "outputs": [
    {
     "name": "stdout",
     "output_type": "stream",
     "text": [
      "Architecture:                       x86_64\n",
      "CPU op-mode(s):                     32-bit, 64-bit\n",
      "Byte Order:                         Little Endian\n",
      "Address sizes:                      48 bits physical, 48 bits virtual\n",
      "CPU(s):                             4\n",
      "On-line CPU(s) list:                0-3\n",
      "Thread(s) per core:                 2\n",
      "Core(s) per socket:                 2\n",
      "Socket(s):                          1\n",
      "NUMA node(s):                       1\n",
      "Vendor ID:                          AuthenticAMD\n",
      "CPU family:                         25\n",
      "Model:                              1\n",
      "Model name:                         AMD EPYC 7763 64-Core Processor\n",
      "Stepping:                           1\n",
      "CPU MHz:                            2445.433\n",
      "BogoMIPS:                           4890.86\n",
      "Virtualization:                     AMD-V\n",
      "Hypervisor vendor:                  Microsoft\n",
      "Virtualization type:                full\n",
      "L1d cache:                          64 KiB\n",
      "L1i cache:                          64 KiB\n",
      "L2 cache:                           1 MiB\n",
      "L3 cache:                           32 MiB\n",
      "NUMA node0 CPU(s):                  0-3\n",
      "Vulnerability Gather data sampling: Not affected\n",
      "Vulnerability Itlb multihit:        Not affected\n",
      "Vulnerability L1tf:                 Not affected\n",
      "Vulnerability Mds:                  Not affected\n",
      "Vulnerability Meltdown:             Not affected\n",
      "Vulnerability Mmio stale data:      Not affected\n",
      "Vulnerability Retbleed:             Not affected\n",
      "Vulnerability Spec rstack overflow: Vulnerable: Safe RET, no microcode\n",
      "Vulnerability Spec store bypass:    Vulnerable\n",
      "Vulnerability Spectre v1:           Mitigation; usercopy/swapgs barriers and __u\n",
      "                                    ser pointer sanitization\n",
      "Vulnerability Spectre v2:           Mitigation; Retpolines; STIBP disabled; RSB \n",
      "                                    filling; PBRSB-eIBRS Not affected; BHI Not a\n",
      "                                    ffected\n",
      "Vulnerability Srbds:                Not affected\n",
      "Vulnerability Tsx async abort:      Not affected\n",
      "Flags:                              fpu vme de pse tsc msr pae mce cx8 apic sep \n",
      "                                    mtrr pge mca cmov pat pse36 clflush mmx fxsr\n",
      "                                     sse sse2 ht syscall nx mmxext fxsr_opt pdpe\n",
      "                                    1gb rdtscp lm constant_tsc rep_good nopl tsc\n",
      "                                    _reliable nonstop_tsc cpuid extd_apicid aper\n",
      "                                    fmperf pni pclmulqdq ssse3 fma cx16 pcid sse\n",
      "                                    4_1 sse4_2 movbe popcnt aes xsave avx f16c r\n",
      "                                    drand hypervisor lahf_lm cmp_legacy svm cr8_\n",
      "                                    legacy abm sse4a misalignsse 3dnowprefetch o\n",
      "                                    svw topoext invpcid_single vmmcall fsgsbase \n",
      "                                    bmi1 avx2 smep bmi2 erms invpcid rdseed adx \n",
      "                                    smap clflushopt clwb sha_ni xsaveopt xsavec \n",
      "                                    xgetbv1 xsaves clzero xsaveerptr rdpru arat \n",
      "                                    npt nrip_save tsc_scale vmcb_clean flushbyas\n",
      "                                    id decodeassists pausefilter pfthreshold v_v\n",
      "                                    msave_vmload umip vaes vpclmulqdq rdpid fsrm\n"
     ]
    }
   ],
   "source": [
    "!lscpu"
   ]
  },
  {
   "cell_type": "code",
   "execution_count": 4,
   "metadata": {},
   "outputs": [
    {
     "name": "stdout",
     "output_type": "stream",
     "text": [
      "Collecting pyspark\n",
      "  Downloading pyspark-3.5.3.tar.gz (317.3 MB)\n",
      "\u001b[2K     \u001b[90m━━━━━━━━━━━━━━━━━━━━━━━━━━━━━━━━━━━━━━\u001b[0m \u001b[32m317.3/317.3 MB\u001b[0m \u001b[31m60.2 MB/s\u001b[0m eta \u001b[36m0:00:00\u001b[0m00:01\u001b[0m00:01\u001b[0m\n",
      "\u001b[?25h  Preparing metadata (setup.py) ... \u001b[?25ldone\n",
      "\u001b[?25hCollecting py4j==0.10.9.7 (from pyspark)\n",
      "  Downloading py4j-0.10.9.7-py2.py3-none-any.whl.metadata (1.5 kB)\n",
      "Downloading py4j-0.10.9.7-py2.py3-none-any.whl (200 kB)\n",
      "Building wheels for collected packages: pyspark\n",
      "  Building wheel for pyspark (setup.py) ... \u001b[?25ldone\n",
      "\u001b[?25h  Created wheel for pyspark: filename=pyspark-3.5.3-py2.py3-none-any.whl size=317840625 sha256=37eefa221c6fb4f4e863122d84d2acc303f42500025bc526e09992955d6d0845\n",
      "  Stored in directory: /home/codespace/.cache/pip/wheels/97/f5/c0/947e2c0942b361ffe58651f36bd7f13772675b3863fd63d1b1\n",
      "Successfully built pyspark\n",
      "Installing collected packages: py4j, pyspark\n",
      "Successfully installed py4j-0.10.9.7 pyspark-3.5.3\n"
     ]
    }
   ],
   "source": [
    "!pip install pyspark"
   ]
  },
  {
   "cell_type": "code",
   "execution_count": 5,
   "metadata": {},
   "outputs": [],
   "source": [
    "import pyspark"
   ]
  },
  {
   "cell_type": "code",
   "execution_count": 6,
   "metadata": {},
   "outputs": [],
   "source": [
    "from pyspark.sql import SparkSession"
   ]
  },
  {
   "cell_type": "code",
   "execution_count": null,
   "metadata": {},
   "outputs": [
    {
     "name": "stderr",
     "output_type": "stream",
     "text": [
      "24/10/30 10:09:44 WARN Utils: Your hostname, codespaces-ed4f45 resolves to a loopback address: 127.0.0.1; using 10.0.0.75 instead (on interface eth0)\n",
      "24/10/30 10:09:44 WARN Utils: Set SPARK_LOCAL_IP if you need to bind to another address\n",
      "Setting default log level to \"WARN\".\n",
      "To adjust logging level use sc.setLogLevel(newLevel). For SparkR, use setLogLevel(newLevel).\n",
      "24/10/30 10:09:45 WARN NativeCodeLoader: Unable to load native-hadoop library for your platform... using builtin-java classes where applicable\n"
     ]
    },
    {
     "name": "stderr",
     "output_type": "stream",
     "text": [
      "24/10/30 10:09:59 WARN GarbageCollectionMetrics: To enable non-built-in garbage collector(s) List(G1 Concurrent GC), users should configure it(them) to spark.eventLog.gcMetrics.youngGenerationGarbageCollectors or spark.eventLog.gcMetrics.oldGenerationGarbageCollectors\n"
     ]
    }
   ],
   "source": [
    "spark = SparkSession.builder.appName(\"MySparkApp\").config('spark.ui.port','4040').getOrCreate()"
   ]
  },
  {
   "cell_type": "code",
   "execution_count": 8,
   "metadata": {},
   "outputs": [
    {
     "name": "stdout",
     "output_type": "stream",
     "text": [
      "Collecting Faker\n",
      "  Downloading Faker-30.8.1-py3-none-any.whl.metadata (15 kB)\n",
      "Requirement already satisfied: python-dateutil>=2.4 in /workspaces/codespaces-jupyter/.conda/lib/python3.11/site-packages (from Faker) (2.9.0)\n",
      "Requirement already satisfied: typing-extensions in /workspaces/codespaces-jupyter/.conda/lib/python3.11/site-packages (from Faker) (4.12.2)\n",
      "Requirement already satisfied: six>=1.5 in /workspaces/codespaces-jupyter/.conda/lib/python3.11/site-packages (from python-dateutil>=2.4->Faker) (1.16.0)\n",
      "Downloading Faker-30.8.1-py3-none-any.whl (1.8 MB)\n",
      "\u001b[2K   \u001b[90m━━━━━━━━━━━━━━━━━━━━━━━━━━━━━━━━━━━━━━━━\u001b[0m \u001b[32m1.8/1.8 MB\u001b[0m \u001b[31m17.7 MB/s\u001b[0m eta \u001b[36m0:00:00\u001b[0m\n",
      "\u001b[?25hInstalling collected packages: Faker\n",
      "Successfully installed Faker-30.8.1\n"
     ]
    }
   ],
   "source": [
    "!pip install Faker"
   ]
  },
  {
   "cell_type": "code",
   "execution_count": 9,
   "metadata": {},
   "outputs": [],
   "source": [
    "from faker import Faker\n",
    "from faker.providers.company.ru_RU import Provider\n",
    "import random"
   ]
  },
  {
   "cell_type": "code",
   "execution_count": 10,
   "metadata": {},
   "outputs": [],
   "source": [
    "model = Faker('ru_RU')\n",
    "model.add_provider(Provider)"
   ]
  },
  {
   "cell_type": "code",
   "execution_count": 11,
   "metadata": {},
   "outputs": [],
   "source": [
    "fake_dataset1 = []"
   ]
  },
  {
   "cell_type": "code",
   "execution_count": 12,
   "metadata": {},
   "outputs": [],
   "source": [
    "for i in range(100):\n",
    " k=random.randint(0, 1)\n",
    " if k==1 :\n",
    "  name = model.company()\n",
    " else :\n",
    "  name = model.name()\n",
    "  bank_account = model.bban()\n",
    "  fake_dataset1.append((i, name, bank_account))"
   ]
  },
  {
   "cell_type": "code",
   "execution_count": 13,
   "metadata": {},
   "outputs": [],
   "source": [
    "v = spark.createDataFrame(fake_dataset1, schema=['id', 'Client', 'Bank Account'])"
   ]
  },
  {
   "cell_type": "code",
   "execution_count": 14,
   "metadata": {},
   "outputs": [],
   "source": [
    "fake_dataset2 = []"
   ]
  },
  {
   "cell_type": "code",
   "execution_count": 16,
   "metadata": {},
   "outputs": [],
   "source": [
    "for i in range(200):\n",
    "  src = random.randint(0, 99)\n",
    "  dst = random.randint(0, 99)\n",
    "  summa = random.randint(0, 10000)\n",
    "  fake_dataset2.append((src, dst, str(summa)+\" RUB\"))"
   ]
  },
  {
   "cell_type": "code",
   "execution_count": 17,
   "metadata": {},
   "outputs": [],
   "source": [
    "e = spark.createDataFrame(fake_dataset2, schema=['src', 'dst', 'summa'])"
   ]
  },
  {
   "cell_type": "code",
   "execution_count": 18,
   "metadata": {},
   "outputs": [
    {
     "name": "stderr",
     "output_type": "stream",
     "text": [
      "                                                                                \r"
     ]
    },
    {
     "name": "stdout",
     "output_type": "stream",
     "text": [
      "+---+--------------------+-----------------+\n",
      "| id|              Client|     Bank Account|\n",
      "+---+--------------------+-----------------+\n",
      "|  0|Никитин Велимир Д...|ATPG2675809878821|\n",
      "|  2|Соловьев Фадей Ан...|EHPO0660294776788|\n",
      "|  6|Николаев Илья Аар...|EUBU2642915121570|\n",
      "|  9|Маркова Жанна Мих...|ACZV7477654761369|\n",
      "| 11|Смирнова Элеонора...|BXJO2396047847552|\n",
      "| 13|Калашникова Зинаи...|YUKT8885012644808|\n",
      "| 14|Кириллов Виталий ...|CPCT6628933861469|\n",
      "| 15|Архипова Наина Гр...|YSVT9925319334846|\n",
      "| 16|Шаров Феликс Авгу...|GUGS7687400279414|\n",
      "| 17|Абрамов Мартьян В...|KKBH2431513365654|\n",
      "| 19|Агафья Ивановна Л...|IDLQ5276436490651|\n",
      "| 20|Тетерина Лора Руб...|DIBM6853916581065|\n",
      "| 25|Лариса Матвеевна ...|KDGS6232691574809|\n",
      "| 26|Киселев Вышеслав ...|CVVE4590006321894|\n",
      "| 27|Рюрик Чеславович ...|BPQA3035904926072|\n",
      "| 28|Кузьмин Поликарп ...|NRBJ7625785236468|\n",
      "| 29|Дементьев Евлампи...|NCOF1221694895139|\n",
      "| 31|Ситников Тимофей ...|RXYD6259252704440|\n",
      "| 36|Агафья Никифоровн...|BONZ4544531576279|\n",
      "| 39|Шарапова Синклити...|PVEI4760435965096|\n",
      "+---+--------------------+-----------------+\n",
      "only showing top 20 rows\n",
      "\n",
      "+---+---+--------+\n",
      "|src|dst|   summa|\n",
      "+---+---+--------+\n",
      "| 66| 88|6126 RUB|\n",
      "|  5| 84|9299 RUB|\n",
      "| 14| 93|9300 RUB|\n",
      "| 86| 10|1677 RUB|\n",
      "| 56| 42|7478 RUB|\n",
      "| 43| 97|5001 RUB|\n",
      "| 53| 93|3415 RUB|\n",
      "| 43| 36|4778 RUB|\n",
      "| 91| 83|9553 RUB|\n",
      "| 84| 72|1795 RUB|\n",
      "| 39|  4|3012 RUB|\n",
      "|  6| 34|1318 RUB|\n",
      "| 55| 59|7402 RUB|\n",
      "| 99| 94|7236 RUB|\n",
      "| 15| 68|5208 RUB|\n",
      "| 54| 42|1540 RUB|\n",
      "| 21| 86|4776 RUB|\n",
      "| 95| 89|8936 RUB|\n",
      "| 82| 99|4682 RUB|\n",
      "| 44| 77|8826 RUB|\n",
      "+---+---+--------+\n",
      "only showing top 20 rows\n",
      "\n"
     ]
    }
   ],
   "source": [
    "e.count()\n",
    "v.count()\n",
    "v.coalesce(2).show()\n",
    "e.coalesce(2).show()"
   ]
  }
 ],
 "metadata": {
  "kernelspec": {
   "display_name": "Python 3",
   "language": "python",
   "name": "python3"
  },
  "language_info": {
   "codemirror_mode": {
    "name": "ipython",
    "version": 3
   },
   "file_extension": ".py",
   "mimetype": "text/x-python",
   "name": "python",
   "nbconvert_exporter": "python",
   "pygments_lexer": "ipython3",
   "version": "3.11.10"
  }
 },
 "nbformat": 4,
 "nbformat_minor": 2
}
